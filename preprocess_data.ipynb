{
 "cells": [
  {
   "cell_type": "code",
   "execution_count": null,
   "metadata": {},
   "outputs": [],
   "source": [
    "# import re\n",
    "# pattern=u'[\\u0980-\\u09FF]+'\n",
    "# bangla_words=re.findall(pattern, text)\n",
    "\n",
    "# #=====\n",
    "# pattern=u'[\\u0600-\\u06FF]+'\n"
   ]
  },
  {
   "cell_type": "code",
   "execution_count": null,
   "metadata": {},
   "outputs": [],
   "source": [
    "# Import the modules\n",
    "import re \n",
    "import json\n",
    "import glob\n",
    "import os \n",
    "from tqdm import tqdm\n",
    "from langdetect import detect\n",
    "src_dir = \"/media/rezwan/Study/Bengali_AI/hadith/hadith/\"\n",
    "dest_dir = \"/media/rezwan/Study/Bengali_AI/hadith/process_hadith/\"\n",
    "hadith_books = ['bukhari', 'muslim']\n",
    "\n",
    "for hadith in hadith_books:\n",
    "    read_json_dir = os.path.join(src_dir, hadith)\n",
    "    write_json_dir = os.path.join(dest_dir, hadith)\n",
    "    for file in tqdm(sorted(glob.glob(os.path.join(read_json_dir, \"*\")))):\n",
    "        # print(file)\n",
    "        # Opening JSON file\n",
    "        f = open(file)\n",
    "        # Convert JSON string to dictionary\n",
    "        data = json.load(f)\n",
    "        data_demo = data.copy()\n",
    "        '''\n",
    "        TO-DO:\n",
    "            \"bangla\": {\n",
    "                        \"translation\": translation,\n",
    "                        \"reference\": ref\n",
    "                    }\n",
    "        '''\n",
    "        # Bangla text \n",
    "        bangla_text=data['data']['bangla']\n",
    "        # print(text)\n",
    "        bangla_dict = {}\n",
    "        translator = None\n",
    "        ref = None \n",
    "        if bangla_text != None:\n",
    "            # \"(?<!\\.)\\n\\n\"\n",
    "            newline_pattern=u'(?<!\\.)\\n\\n' #\\n\\n\n",
    "            translator_ref=re.split(newline_pattern, bangla_text)\n",
    "            if len(translator_ref) > 1:\n",
    "                ref = translator_ref[-1]\n",
    "                translator = \"\".join(translator_ref[0:-1])\n",
    "\n",
    "        bangla_dict['translator'] = translator\n",
    "        bangla_dict['reference'] = ref\n",
    "        # insert \n",
    "        data_demo['data']['bangla'] = bangla_dict\n",
    "        # data_demo\n",
    "\n",
    "        '''\n",
    "        TO-DO:\n",
    "            \"explanation\":{   \n",
    "                            \"para-1\":{\"text\":text,\"lang\":bn},\n",
    "                            \"para-2\":{\"text\":text,\"lang\":ar}\n",
    "                        }\n",
    "        '''\n",
    "        # explanation\n",
    "        explanation_dict = {}\n",
    "        explanation_text = data['data']['explanation']\n",
    "        # print(explanation_text)\n",
    "        if explanation_text != None:\n",
    "            newline_pattern=u'(?<!\\.)\\n\\n' #\\n\\n\n",
    "            explanation_split_text=re.split(newline_pattern, explanation_text)\n",
    "            for idx, exp_txt in enumerate(explanation_split_text):\n",
    "                para_no = \"para-\"+str(idx+1)\n",
    "                para_dict = {}\n",
    "                text = exp_txt\n",
    "                lang = detect(exp_txt)\n",
    "                para_dict['text'] = text\n",
    "                para_dict['lang'] = lang\n",
    "                explanation_dict[para_no] = para_dict\n",
    "\n",
    "            data_demo['data']['explanation'] = explanation_dict\n",
    "\n",
    "        ## Save file\n",
    "        file_name = file.split(\"/\")[-1]\n",
    "        # print(os.path.join(write_json_dir, file_name))\n",
    "        with open(os.path.join(write_json_dir, file_name), 'w', encoding='utf8') as json_file:\n",
    "            json.dump(data_demo, json_file, ensure_ascii=False)"
   ]
  },
  {
   "cell_type": "code",
   "execution_count": null,
   "metadata": {},
   "outputs": [],
   "source": []
  }
 ],
 "metadata": {
  "kernelspec": {
   "display_name": "Python 3.8.5 ('scrapper')",
   "language": "python",
   "name": "python3"
  },
  "language_info": {
   "codemirror_mode": {
    "name": "ipython",
    "version": 3
   },
   "file_extension": ".py",
   "mimetype": "text/x-python",
   "name": "python",
   "nbconvert_exporter": "python",
   "pygments_lexer": "ipython3",
   "version": "3.8.5"
  },
  "orig_nbformat": 4,
  "vscode": {
   "interpreter": {
    "hash": "fe1da54547ae9004416b89ae01e2c6dd506244187cd8c56b43cb058f56e780b4"
   }
  }
 },
 "nbformat": 4,
 "nbformat_minor": 2
}
